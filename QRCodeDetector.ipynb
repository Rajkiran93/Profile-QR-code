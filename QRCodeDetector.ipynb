{
  "nbformat": 4,
  "nbformat_minor": 0,
  "metadata": {
    "colab": {
      "name": "QRCodeDetector.ipynb",
      "version": "0.3.2",
      "provenance": [],
      "collapsed_sections": []
    },
    "kernelspec": {
      "name": "python3",
      "display_name": "Python 3"
    },
    "accelerator": "GPU"
  },
  "cells": [
    {
      "cell_type": "code",
      "metadata": {
        "id": "0ILvgjUCl6eZ",
        "colab_type": "code",
        "colab": {}
      },
      "source": [
        "!apt-get -qq install -y libsm6 libxext6 && pip install -q -U opencv-python"
      ],
      "execution_count": 0,
      "outputs": []
    },
    {
      "cell_type": "code",
      "metadata": {
        "id": "NNnGhkbxt47n",
        "colab_type": "code",
        "colab": {}
      },
      "source": [
        "import cv2\n",
        "import numpy as np\n",
        "import matplotlib.pyplot as plt\n",
        "from urllib import request\n",
        "from matplotlib.pyplot import imshow\n",
        "%matplotlib inline\n",
        "cv2.__version__"
      ],
      "execution_count": 0,
      "outputs": []
    },
    {
      "cell_type": "code",
      "metadata": {
        "id": "uF4JCIefkK4Z",
        "colab_type": "code",
        "colab": {}
      },
      "source": [
        "input_image = cv2.imread(\"QR1.png\")\n",
        "output_image = input_image.copy()\n",
        "detector = cv2.QRCodeDetector()\n",
        "data, points, straight_qrcode = detector.detectAndDecode(output_image)\n",
        "imshow(output_image)"
      ],
      "execution_count": 0,
      "outputs": []
    },
    {
      "cell_type": "code",
      "metadata": {
        "id": "0_7gvZoFugok",
        "colab_type": "code",
        "colab": {}
      },
      "source": [
        "if data:\n",
        "    print(f'Decoded data of QRCode ->: {data}')\n",
        "    for i in range(4):\n",
        "        cv2.line(output_image, tuple(points[i][0]), tuple(points[(i + 1) % len(points)][0]), (0, 0, 255), 4)\n",
        "        cv2.imwrite('output.png', output_image)\n",
        "        imshow(output_image)\n",
        "else:\n",
        "    print(\"QR Code not detected\")\n",
        "    imshow(\"Results\", inputImage)"
      ],
      "execution_count": 0,
      "outputs": []
    },
    {
      "cell_type": "code",
      "metadata": {
        "id": "dxaDS2NyFuun",
        "colab_type": "code",
        "colab": {}
      },
      "source": [
        "print(\"Saving image from decoded data\")\n",
        "f = open('MyIntro.png', 'wb')\n",
        "f.write(request.urlopen(data).read())\n",
        "f.close()\n",
        "\n",
        "print(\"Display saved image\")\n",
        "intro_image = cv2.imread(\"MyIntro.png\")\n",
        "plt.figure(figsize=(15,10))\n",
        "imshow(intro_image)"
      ],
      "execution_count": 0,
      "outputs": []
    }
  ]
}